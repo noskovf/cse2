{
 "cells": [
  {
   "cell_type": "markdown",
   "metadata": {},
   "source": [
    "Преоразовать существующий код для распознавания последовательности рукописных символов в текст.\n",
    "Написать генератор произвольной последовательности рукописных символов.\n",
    "\n",
    "ГЕНЕРАЦИЯ НАБОРА ДАННЫХ\n",
    "Сгенерировать набор текстовых строк из допустимых символов.\n",
    "Каждому набору поставить в соотвествие массив изоражений соответствующих символов.\n",
    "Добавить пробелы для разделения слов, символы пробелов не использовать во время классификации.\n",
    "\n",
    "КЛАССИФИКАЦИЯ (k ближайших соседей)\n",
    "Часть символов оставить для обучения классификатора . Остальные  классифицировать\n",
    "по аналогии с примером mnist с прошлого занятия. Т.е. преобразовывать изображение в вектор.\n",
    "Выбрать оптимальный классификатор в зависимости от k- количество соседей.\n",
    "Метрика для измерения точности классификации, и выбора оптимального классификатора относительно параметра k - accuracy.\n",
    "\n",
    "РАСПОЗНАВАНИЕ\n",
    "Итак, к данному этапу Вы из массива изображений \"восстановили\" текст.\n",
    "Случайно удалите некоторые символы,и случайно добавьте символы в результат распознавания.\n",
    "Рассчитайте метрику CER.\n"
   ]
  },
  {
   "cell_type": "code",
   "execution_count": 1,
   "metadata": {},
   "outputs": [
    {
     "name": "stdout",
     "output_type": "stream",
     "text": [
      "Ошибка загрузки изображения: data\\8\\1\n",
      "Ошибка загрузки изображения: data\\FashionMNIST\\raw\n"
     ]
    }
   ],
   "source": [
    "import os\n",
    "import numpy as np\n",
    "import matplotlib.pyplot as plt\n",
    "from sklearn.model_selection import train_test_split\n",
    "from sklearn.neighbors import KNeighborsClassifier\n",
    "from sklearn.metrics import classification_report, confusion_matrix\n",
    "import cv2\n",
    "\n",
    "# Путь к папке с данными\n",
    "data_dir = 'data'\n",
    "\n",
    "# Сбор данных\n",
    "X = []\n",
    "y = []\n",
    "\n",
    "# Проходим по каждой папке, соответствующей метке\n",
    "for label in os.listdir(data_dir):\n",
    "    label_dir = os.path.join(data_dir, label)\n",
    "    if os.path.isdir(label_dir):\n",
    "        # Обрабатываем каждый файл изображения в папке метки\n",
    "        for img_file in os.listdir(label_dir):\n",
    "            img_path = os.path.join(label_dir, img_file)\n",
    "            img = cv2.imread(img_path, cv2.IMREAD_GRAYSCALE)\n",
    "            if img is None:\n",
    "                print(f\"Ошибка загрузки изображения: {img_path}\")\n",
    "                continue\n",
    "            # Изменяем размер изображения на 32x32 пикселя\n",
    "            img = cv2.resize(img, (32, 32))\n",
    "            # Преобразуем изображение в одномерный массив и добавляем в X\n",
    "            X.append(img.flatten())\n",
    "            # Добавляем метку изображения в y\n",
    "            y.append(label)\n",
    "\n",
    "# Преобразуем списки в массивы numpy\n",
    "X = np.array(X)\n",
    "y = np.array(y)\n",
    "\n",
    "# Разделяем данные на обучающую и тестовую выборки\n",
    "X_train, X_test, y_train, y_test = train_test_split(X, y, test_size=0.2, random_state=42)\n"
   ]
  },
  {
   "cell_type": "code",
   "execution_count": 2,
   "metadata": {},
   "outputs": [
    {
     "name": "stdout",
     "output_type": "stream",
     "text": [
      "              precision    recall  f1-score   support\n",
      "\n",
      "           (       0.87      1.00      0.93      2814\n",
      "           )       0.90      1.00      0.95      2817\n",
      "           +       0.98      0.98      0.98      5043\n",
      "           ,       0.43      0.87      0.57       335\n",
      "           -       0.97      1.00      0.98      6773\n",
      "           0       0.99      0.95      0.97      1421\n",
      "           1       0.94      0.96      0.95      5349\n",
      "           2       0.98      0.95      0.96      5144\n",
      "           3       0.96      0.96      0.96      2194\n",
      "           4       0.98      0.89      0.93      1454\n",
      "           5       0.96      0.84      0.90       714\n",
      "           6       0.99      0.79      0.88       646\n",
      "           7       1.00      0.86      0.92       575\n",
      "           8       1.00      0.81      0.90       642\n",
      "           9       1.00      0.16      0.28       130\n",
      "           X       1.00      0.95      0.97      5358\n",
      "           h       1.00      0.89      0.94       301\n",
      "           t       0.98      0.92      0.95       678\n",
      "       times       1.00      0.96      0.98       676\n",
      "           w       1.00      0.91      0.95       100\n",
      "           y       1.00      0.94      0.97      1895\n",
      "\n",
      "    accuracy                           0.95     45059\n",
      "   macro avg       0.95      0.88      0.90     45059\n",
      "weighted avg       0.96      0.95      0.95     45059\n",
      "\n"
     ]
    }
   ],
   "source": [
    "knn = KNeighborsClassifier(n_neighbors=2)\n",
    "knn.fit(X_train, y_train)\n",
    "\n",
    "y_pred = knn.predict(X_test)\n",
    "\n",
    "print(classification_report(y_test, y_pred))\n"
   ]
  },
  {
   "cell_type": "code",
   "execution_count": 3,
   "metadata": {},
   "outputs": [
    {
     "data": {
      "text/plain": [
       "['knn_model.pkl']"
      ]
     },
     "execution_count": 3,
     "metadata": {},
     "output_type": "execute_result"
    }
   ],
   "source": [
    "import joblib\n",
    "joblib.dump(knn, 'knn_model.pkl')"
   ]
  },
  {
   "cell_type": "code",
   "execution_count": 9,
   "metadata": {},
   "outputs": [],
   "source": [
    "import random\n",
    "\n",
    "path_to_folder = 'data' # путь к папке с данными\n",
    "name_folders = [x[0].split('\\\\')[-1] for x in os.walk(path_to_folder)]\n",
    "name_folders = name_folders[1:]\n",
    "class_idx = [i for i in range(len(name_folders))]\n",
    "dict_folders = {name_folders[i]:class_idx[i] for i in range(len(class_idx))}\n",
    "\n",
    "a,b = [0]*5,[0]*5\n",
    "for i in range(5):\n",
    "    a[i]=int(random.uniform(0,21))\n",
    "    b[i]=[key for key, value in dict_folders.items() if value == a[i]]"
   ]
  },
  {
   "cell_type": "code",
   "execution_count": 10,
   "metadata": {},
   "outputs": [],
   "source": [
    "import cv2\n",
    "import matplotlib.pyplot as plt\n",
    "from PIL import Image, ImageOps\n",
    "\n",
    "def show_image_from_folder(folder, filename):\n",
    "    img_path = os.path.join(folder, filename)\n",
    "    img = cv2.imread(img_path)\n",
    "    if img is not None:\n",
    "        plt.imshow(img)\n",
    "        plt.axis('off')\n",
    "        plt.show()\n",
    "\n",
    "folder_path = './data/'+str(b[0][0])\n",
    "files = [f for f in os.listdir(folder_path) if os.path.isfile(os.path.join(folder_path, f))]\n",
    "random_file = random.choice(files)\n",
    "\n",
    "\n",
    "img_01 = Image.open(folder_path+'/'+random_file)\n",
    "img_size = img_01.size"
   ]
  },
  {
   "cell_type": "code",
   "execution_count": 11,
   "metadata": {},
   "outputs": [],
   "source": [
    "new_im = Image.new('RGB', (5*img_size[0],img_size[1]), (250,250,250))"
   ]
  },
  {
   "cell_type": "code",
   "execution_count": 12,
   "metadata": {},
   "outputs": [
    {
     "data": {
      "image/png": "[encoded data removed]",
      "text/plain": [
       "<Figure size 1500x500 with 3 Axes>"
      ]
     },
     "metadata": {},
     "output_type": "display_data"
    }
   ],
   "source": [
    "# Массив для хранения предсказаний\n",
    "results = []\n",
    "images = []  # Для хранения сгенерированных изображений\n",
    "\n",
    "# Генерация трех разных изображений\n",
    "for j in range(3):\n",
    "    result = []\n",
    "    # Создаем пустое изображение, которое будет составлено из 5 случайных изображений\n",
    "    new_im = Image.new('RGB', (5 * img_size[0], img_size[1]))\n",
    "\n",
    "    for i in range(5):\n",
    "        # Путь к папке с изображениями\n",
    "        folder_path = './data/' + str(b[i][0])\n",
    "        files = [f for f in os.listdir(folder_path) if os.path.isfile(os.path.join(folder_path, f))]\n",
    "        \n",
    "        # Выбираем случайный файл из папки\n",
    "        random_file = random.choice(files)\n",
    "        img = Image.open(os.path.join(folder_path, random_file))\n",
    "        \n",
    "        # Изменяем размер изображения для предсказания\n",
    "        img2 = cv2.resize(np.array(img), (32, 32))\n",
    "        \n",
    "        # Делаем предсказание и добавляем в результат\n",
    "        result.append(knn.predict(img2.flatten().reshape(1, -1)))\n",
    "        \n",
    "        # Вставляем изображение в итоговое изображение\n",
    "        new_im.paste(img, (i * img.size[0], 0))\n",
    "    \n",
    "    # Сохраняем предсказания для текущего изображения\n",
    "    results.append(result)\n",
    "    images.append(new_im)  # Сохраняем итоговое изображение\n",
    "\n",
    "# Выводим предсказания и визуализируем изображения\n",
    "plt.figure(figsize=(15, 5))\n",
    "\n",
    "for j, img in enumerate(images):\n",
    "    plt.subplot(1, 3, j + 1)\n",
    "    plt.imshow(img)\n",
    "    plt.axis('off')\n",
    "    plt.title(f'Предсказания: {results[j]}')\n",
    "\n",
    "plt.show()\n"
   ]
  },
  {
   "cell_type": "code",
   "execution_count": 13,
   "metadata": {},
   "outputs": [
    {
     "data": {
      "text/plain": [
       "[['+'], [','], ['9'], ['1'], ['t']]"
      ]
     },
     "execution_count": 13,
     "metadata": {},
     "output_type": "execute_result"
    }
   ],
   "source": [
    "b"
   ]
  },
  {
   "cell_type": "code",
   "execution_count": 14,
   "metadata": {},
   "outputs": [
    {
     "data": {
      "text/plain": [
       "[array(['+'], dtype='<U5'),\n",
       " array([','], dtype='<U5'),\n",
       " array(['9'], dtype='<U5'),\n",
       " array(['1'], dtype='<U5'),\n",
       " array(['t'], dtype='<U5')]"
      ]
     },
     "execution_count": 14,
     "metadata": {},
     "output_type": "execute_result"
    }
   ],
   "source": [
    "result"
   ]
  },
  {
   "cell_type": "code",
   "execution_count": 15,
   "metadata": {},
   "outputs": [
    {
     "data": {
      "text/plain": [
       "array([['+'],\n",
       "       [','],\n",
       "       [' '],\n",
       "       ['1'],\n",
       "       ['t']], dtype='<U1')"
      ]
     },
     "execution_count": 15,
     "metadata": {},
     "output_type": "execute_result"
    }
   ],
   "source": [
    "result = np.char.replace(result, result[2][0], ' ')\n",
    "result"
   ]
  },
  {
   "cell_type": "code",
   "execution_count": 16,
   "metadata": {},
   "outputs": [
    {
     "name": "stdout",
     "output_type": "stream",
     "text": [
      "+,91t     +, 1t\n"
     ]
    }
   ],
   "source": [
    "need, inp = '', ''\n",
    "for i in range(5):\n",
    "    need += str(b[i][0])\n",
    "    inp += str(result[i][0])\n",
    "print(need,'   ', inp)"
   ]
  },
  {
   "cell_type": "code",
   "execution_count": 17,
   "metadata": {},
   "outputs": [
    {
     "data": {
      "text/plain": [
       "0.2"
      ]
     },
     "execution_count": 17,
     "metadata": {},
     "output_type": "execute_result"
    }
   ],
   "source": [
    "#расчет cer\n",
    "import editdistance\n",
    "\n",
    "need = need.replace(\" \", \"\").lower()\n",
    "inp = inp.replace(\" \", \"\").lower()\n",
    "distance = editdistance.eval(need, inp)\n",
    "N = len(need)\n",
    "if N == 0:\n",
    "    cer_value = 0.0\n",
    "cer_value = distance / N\n",
    "\n",
    "cer_value"
   ]
  }
 ],
 "metadata": {
  "kernelspec": {
   "display_name": "venv",
   "language": "python",
   "name": "python3"
  },
  "language_info": {
   "codemirror_mode": {
    "name": "ipython",
    "version": 3
   },
   "file_extension": ".py",
   "mimetype": "text/x-python",
   "name": "python",
   "nbconvert_exporter": "python",
   "pygments_lexer": "ipython3",
   "version": "3.12.7"
  }
 },
 "nbformat": 4,
 "nbformat_minor": 2
}
